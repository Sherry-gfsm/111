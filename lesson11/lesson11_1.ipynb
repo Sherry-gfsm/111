{
 "cells": [
  {
   "cell_type": "code",
   "execution_count": 21,
   "metadata": {},
   "outputs": [
    {
     "name": "stdout",
     "output_type": "stream",
     "text": [
      "有這個檔\n"
     ]
    }
   ],
   "source": [
    "import os\n",
    "file_path = os.path.abspath(__name__) \n",
    "current_dir_name = os.path.dirname(file_path) \n",
    "file_position = os.path.join(current_dir_name,'data','class.csv') \n",
    "if os.path.isfile(file_position):\n",
    "    print(\"有這個檔\")\n",
    "else:\n",
    "    print(\"沒有這個檔\") "
   ]
  },
  {
   "cell_type": "code",
   "execution_count": 22,
   "metadata": {},
   "outputs": [],
   "source": [
    "file = open(file_position,mode='w',encoding='utf-8')\n",
    "file.write('姓名,國文,英文,數學\\n熊貓,100,100,100\\n')\n",
    "file.close()"
   ]
  },
  {
   "cell_type": "code",
   "execution_count": 25,
   "metadata": {},
   "outputs": [],
   "source": [
    "with open(file_position,mode='w',encoding='utf-8') as file:\n",
    "    file.write('姓名,國文,英文,數學\\n熊貓,98,98,100\\n')\n"
   ]
  },
  {
   "cell_type": "code",
   "execution_count": 26,
   "metadata": {},
   "outputs": [
    {
     "data": {
      "text/plain": [
       "{'姓名': '熊貓   ', '國文': 98, '數學': 98, '英文': 100}"
      ]
     },
     "execution_count": 26,
     "metadata": {},
     "output_type": "execute_result"
    }
   ],
   "source": [
    "{\"姓名\":\"熊貓\",\"國文\":98,\"數學\":98,\"英文\":100}"
   ]
  },
  {
   "cell_type": "code",
   "execution_count": 28,
   "metadata": {},
   "outputs": [
    {
     "data": {
      "text/plain": [
       "[{'姓名': '熊貓', '國文': 98, '數學': 98, '英文': 100},\n",
       " {'姓名': '小蔡', '國文': 95, '數學': 93, '英文': 100}]"
      ]
     },
     "execution_count": 28,
     "metadata": {},
     "output_type": "execute_result"
    }
   ],
   "source": [
    "[{\"姓名\":\"熊貓\",\"國文\":98,\"數學\":98,\"英文\":100}\n",
    " ,{\"姓名\":\"小蔡\",\"國文\":95,\"數學\":93,\"英文\":100}]"
   ]
  },
  {
   "cell_type": "code",
   "execution_count": 30,
   "metadata": {},
   "outputs": [
    {
     "data": {
      "text/plain": [
       "[{'姓名': '熊貓', '國文': 98, '數學': 98, '英文': 100},\n",
       " {'姓名': '小蔡', '國文': 95, '數學': 93, '英文': 100}]"
      ]
     },
     "execution_count": 30,
     "metadata": {},
     "output_type": "execute_result"
    }
   ],
   "source": [
    "students=list()\n",
    "students.append(\n",
    "{\"姓名\":\"熊貓\",\"國文\":98,\"數學\":98,\"英文\":100}\n",
    ")\n",
    "students.append(\n",
    "{\"姓名\":\"小蔡\",\"國文\":95,\"數學\":93,\"英文\":100}    \n",
    ")\n",
    "students"
   ]
  }
 ],
 "metadata": {
  "kernelspec": {
   "display_name": "Python 3",
   "language": "python",
   "name": "python3"
  },
  "language_info": {
   "codemirror_mode": {
    "name": "ipython",
    "version": 3
   },
   "file_extension": ".py",
   "mimetype": "text/x-python",
   "name": "python",
   "nbconvert_exporter": "python",
   "pygments_lexer": "ipython3",
   "version": "3.11.9"
  }
 },
 "nbformat": 4,
 "nbformat_minor": 2
}
