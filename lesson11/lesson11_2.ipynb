{
 "cells": [
  {
   "cell_type": "code",
   "execution_count": null,
   "metadata": {},
   "outputs": [],
   "source": [
    "import random\n",
    "with open('names.txt',encoding='utf-8') as file:\n",
    "    contents:str=file.read()\n",
    "    names:list[str]=contents.split(sep='\\n')\n",
    "    students_names=random.choices(names,k=50)\n",
    "students=[]\n",
    "for name in students_names:\n",
    "    chinese=random.randint(50,100)\n",
    "    english=random.randint(50,100)\n",
    "    math=random.randint(50,100)\n",
    "    students.append({'姓名':name,\n",
    "                     '國文':chinese,\n",
    "                     '英文':english,\n",
    "                     '數學':math})\n",
    "students\n"
   ]
  },
  {
   "cell_type": "code",
   "execution_count": 11,
   "metadata": {},
   "outputs": [],
   "source": [
    "import random\n",
    "with open('names.txt',encoding='utf-8') as file:\n",
    "    contents:str=file.read()\n",
    "    names:list[str]=contents.split(sep='\\n')\n",
    "    people_names=random.choices(names,k=50)\n",
    "people=[]\n",
    "for name in people_names:\n",
    "    chinese=random.randint(50,100)\n",
    "    english=random.randint(50,100)\n",
    "    math=random.randint(50,100)\n",
    "    people.append({'姓名':name,\n",
    "                     '國文':chinese,\n",
    "                     '英文':english,\n",
    "                     '數學':math})\n",
    "import os\n",
    "file_path = os.path.abspath(__name__) \n",
    "current_dir_name = os.path.dirname(file_path) \n",
    "file_position = os.path.join(current_dir_name,'data','people.csv')\n",
    "file_position\n",
    "import csv\n",
    "with open(file_position,mode='w',newline='') as file:\n",
    "    writer = csv.DictWriter(file,['姓名','國文','英文','數學'])\n",
    "    writer.writeheader()\n",
    "    writer.writerows(people)"
   ]
  },
  {
   "cell_type": "code",
   "execution_count": null,
   "metadata": {},
   "outputs": [],
   "source": [
    "students=[]\n",
    "for name in students_names:\n",
    "    chinese=random.randint(50,100)\n",
    "    english=random.randint(50,100)\n",
    "    math=random.randint(50,100)\n",
    "    students.append({'姓名':name,\n",
    "                     '國文':chinese,\n",
    "                     '英文':english,\n",
    "                     '數學':math})\n",
    "students"
   ]
  },
  {
   "cell_type": "code",
   "execution_count": 6,
   "metadata": {},
   "outputs": [
    {
     "data": {
      "text/plain": [
       "'/workspaces/111/lesson11/data/students.csv'"
      ]
     },
     "execution_count": 6,
     "metadata": {},
     "output_type": "execute_result"
    }
   ],
   "source": [
    "import os\n",
    "file_path = os.path.abspath(__name__) \n",
    "current_dir_name = os.path.dirname(file_path) \n",
    "file_position = os.path.join(current_dir_name,'data','people.csv')\n",
    "file_position"
   ]
  },
  {
   "cell_type": "code",
   "execution_count": 8,
   "metadata": {},
   "outputs": [],
   "source": [
    "import csv\n",
    "with open(file_position,mode='w',newline='') as file:\n",
    "    writer = csv.DictWriter(file,['姓名','國文','英文','數學'])\n",
    "    writer.writeheader()\n",
    "    writer.writerows(students)\n",
    "\n",
    "    "
   ]
  }
 ],
 "metadata": {
  "kernelspec": {
   "display_name": "Python 3",
   "language": "python",
   "name": "python3"
  },
  "language_info": {
   "codemirror_mode": {
    "name": "ipython",
    "version": 3
   },
   "file_extension": ".py",
   "mimetype": "text/x-python",
   "name": "python",
   "nbconvert_exporter": "python",
   "pygments_lexer": "ipython3",
   "version": "3.11.9"
  }
 },
 "nbformat": 4,
 "nbformat_minor": 2
}
