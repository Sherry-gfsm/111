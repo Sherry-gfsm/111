{
 "cells": [
  {
   "cell_type": "code",
   "execution_count": 3,
   "metadata": {},
   "outputs": [
    {
     "name": "stdout",
     "output_type": "stream",
     "text": [
      "請輸入數字:'jj' is not a number.\n",
      "請輸入數字:Blank values are not allowed.\n",
      "請輸入數字:123\n"
     ]
    }
   ],
   "source": [
    "import pyinputplus as pyip\n",
    "value = pyip.inputNum('請輸入數字:')\n",
    "print(value)"
   ]
  },
  {
   "cell_type": "code",
   "execution_count": null,
   "metadata": {},
   "outputs": [],
   "source": [
    "while True:       \n",
    "    name = input(\"請輸入姓名：\")\n",
    "    height = pyip.inputNum('請輸入身高:')\n",
    "    weight = pyip.inputNum('請輸入身高:')\n",
    "\n"
   ]
  },
  {
   "cell_type": "code",
   "execution_count": 3,
   "metadata": {},
   "outputs": [
    {
     "name": "stdout",
     "output_type": "stream",
     "text": [
      "請輸入身高(cm)：158\n",
      "請輸入體重(kg)：42\n",
      "11你好\n",
      "身高是：158公分\n",
      "體重是：42公斤\n",
      "BMI:16.82體重過輕\n",
      "請輸入身高(cm)：157\n",
      "請輸入體重(kg)：40\n",
      "11你好\n",
      "身高是：157公分\n",
      "體重是：40公斤\n",
      "BMI:16.23體重過輕\n",
      "應用程式結束\n"
     ]
    }
   ],
   "source": [
    "import pyinputplus as pyip\n",
    "\n",
    "while True:\n",
    "    name = input(\"請輸入姓名：\")\n",
    "\n",
    "    height= pyip.inputNum(\"請輸入身高(cm)：\")\n",
    "    print(height)\n",
    "    weight = pyip.inputNum(\"請輸入體重(kg)：\")\n",
    "    print(weight)\n",
    "    bmi = weight/(height/100) ** 2\n",
    "    if bmi >= 35:\n",
    "        status = '重度肥胖'\n",
    "    elif bmi >= 30:\n",
    "        status = '中度肥胖'\n",
    "    elif bmi >= 27:\n",
    "        status = '輕度肥胖'\n",
    "    elif bmi >= 24:\n",
    "        status = '體重過重'\n",
    "    elif bmi >= 18.5:\n",
    "        status = '體重正常'\n",
    "    else:\n",
    "        status = '體重過輕'\n",
    "    print(f\"{name}你好\\n身高是：{height}公分\\n體重是：{weight}公斤\\nBMI:{round(bmi,ndigits=2)}{status}\")\n",
    "\n",
    "\n",
    "    answer=input(\"離開(q)or繼續(c)\")\n",
    "    if answer==\"q\":\n",
    "        break\n",
    "print(\"應用程式結束\")"
   ]
  }
 ],
 "metadata": {
  "kernelspec": {
   "display_name": "Python 3",
   "language": "python",
   "name": "python3"
  },
  "language_info": {
   "codemirror_mode": {
    "name": "ipython",
    "version": 3
   },
   "file_extension": ".py",
   "mimetype": "text/x-python",
   "name": "python",
   "nbconvert_exporter": "python",
   "pygments_lexer": "ipython3",
   "version": "3.11.9"
  }
 },
 "nbformat": 4,
 "nbformat_minor": 2
}
