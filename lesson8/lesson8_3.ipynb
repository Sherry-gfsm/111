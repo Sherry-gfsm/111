{
 "cells": [
  {
   "cell_type": "code",
   "execution_count": 4,
   "metadata": {},
   "outputs": [],
   "source": [
    "def menu(wine, entree='牛排', dessert=\"蛋糕\"):\n",
    "    print(f\"酒類:{wine}\")\n",
    "    print(f\"主餐:{entree}\")\n",
    "    print(f\"點心:{dessert}\")\n"
   ]
  },
  {
   "cell_type": "code",
   "execution_count": 7,
   "metadata": {},
   "outputs": [
    {
     "name": "stdout",
     "output_type": "stream",
     "text": [
      "酒類:白酒\n",
      "主餐:牛排\n",
      "點心:蛋糕\n",
      "=========\n",
      "酒類:白酒\n",
      "主餐:牛排\n",
      "點心:冰淇淋\n",
      "=========\n",
      "酒類:白酒\n",
      "主餐:雞排\n",
      "點心:冰淇淋\n"
     ]
    }
   ],
   "source": [
    "menu('白酒')\n",
    "print('=========')\n",
    "menu('白酒',dessert=\"冰淇淋\")\n",
    "print('=========')\n",
    "menu('白酒',dessert=\"冰淇淋\",entree=\"雞排\")\n"
   ]
  },
  {
   "cell_type": "code",
   "execution_count": 14,
   "metadata": {},
   "outputs": [],
   "source": [
    "def menu(wine, entree='牛排',/, dessert=\"蛋糕\"):\n",
    "    print(f\"酒類:{wine}\")\n",
    "    print(f\"主餐:{entree}\")\n",
    "    print(f\"點心:{dessert}\")"
   ]
  },
  {
   "cell_type": "code",
   "execution_count": 17,
   "metadata": {},
   "outputs": [
    {
     "name": "stdout",
     "output_type": "stream",
     "text": [
      "酒類:伏特加\n",
      "主餐:雞排\n",
      "點心:冰淇淋\n"
     ]
    }
   ],
   "source": [
    "menu('伏特加','雞排',dessert='冰淇淋')\n"
   ]
  },
  {
   "cell_type": "code",
   "execution_count": 20,
   "metadata": {},
   "outputs": [
    {
     "name": "stdout",
     "output_type": "stream",
     "text": [
      "(1, 2, 3, 4, 'a', 's')\n"
     ]
    }
   ],
   "source": [
    "def print_tf(*tf):\n",
    "    print(tf)\n",
    "print_tf(1, 2, 3, 4, 'a', 's')"
   ]
  },
  {
   "cell_type": "code",
   "execution_count": 21,
   "metadata": {},
   "outputs": [
    {
     "name": "stdout",
     "output_type": "stream",
     "text": [
      "{'one': 1, 'two': 2, 'three': 3}\n"
     ]
    }
   ],
   "source": [
    "def print_tnt(**tnt):\n",
    "    print(tnt)\n",
    "print_tnt(one=1,two=2,three=3)"
   ]
  },
  {
   "cell_type": "code",
   "execution_count": 22,
   "metadata": {},
   "outputs": [
    {
     "name": "stdout",
     "output_type": "stream",
     "text": [
      "(1, 2, 3, 4, 'a', 's')\n",
      "{'one': 1, 'two': 2, 'three': 3}\n"
     ]
    }
   ],
   "source": [
    "def print_all(*tf,**tnt):\n",
    "    print(tf)\n",
    "    print(tnt)\n",
    "print_all(1, 2, 3, 4, 'a', 's',one=1,two=2,three=3)"
   ]
  }
 ],
 "metadata": {
  "kernelspec": {
   "display_name": "Python 3",
   "language": "python",
   "name": "python3"
  },
  "language_info": {
   "codemirror_mode": {
    "name": "ipython",
    "version": 3
   },
   "file_extension": ".py",
   "mimetype": "text/x-python",
   "name": "python",
   "nbconvert_exporter": "python",
   "pygments_lexer": "ipython3",
   "version": "3.11.9"
  }
 },
 "nbformat": 4,
 "nbformat_minor": 2
}
