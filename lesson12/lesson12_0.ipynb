{
 "cells": [
  {
   "cell_type": "code",
   "execution_count": 1,
   "metadata": {},
   "outputs": [],
   "source": [
    "import random\n",
    "import os\n",
    "import csv\n",
    "\n",
    "with open(\"names.txt\",encoding='utf-8') as file:\n",
    "    content = file.read()\n",
    "    names:list[str] = content.split('\\n')\n",
    "    people_names = random.choices(names,k=50)\n",
    "file_path = os.path.abspath(__name__) \n",
    "current_dir_name = os.path.dirname(file_path)\n",
    "file_position = os.path.join(current_dir_name,'data','people.csv')\n",
    "people = []\n",
    "for name in people_names:\n",
    "    height = random.randint(150,190)\n",
    "    weight = random.randint(50,90)\n",
    "    people.append({'姓名':name,\n",
    "                     '身高':height,\n",
    "                     '體重':weight})\n",
    "with open(file_position,mode='w',newline='') as file:\n",
    "    writer = csv.DictWriter(file,['姓名','身高','體重'])\n",
    "    writer.writeheader()\n",
    "    writer.writerows(people)"
   ]
  }
 ],
 "metadata": {
  "kernelspec": {
   "display_name": "Python 3",
   "language": "python",
   "name": "python3"
  },
  "language_info": {
   "codemirror_mode": {
    "name": "ipython",
    "version": 3
   },
   "file_extension": ".py",
   "mimetype": "text/x-python",
   "name": "python",
   "nbconvert_exporter": "python",
   "pygments_lexer": "ipython3",
   "version": "3.11.9"
  }
 },
 "nbformat": 4,
 "nbformat_minor": 2
}
