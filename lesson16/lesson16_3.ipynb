{
 "cells": [
  {
   "cell_type": "code",
   "execution_count": null,
   "metadata": {},
   "outputs": [],
   "source": [
    "import numpy as np\n",
    "students=np.random.randint(50,101,size=(50,5))\n",
    "display(students)\n"
   ]
  },
  {
   "cell_type": "code",
   "execution_count": 2,
   "metadata": {},
   "outputs": [
    {
     "data": {
      "text/plain": [
       "2"
      ]
     },
     "metadata": {},
     "output_type": "display_data"
    },
    {
     "data": {
      "text/plain": [
       "250"
      ]
     },
     "metadata": {},
     "output_type": "display_data"
    },
    {
     "data": {
      "text/plain": [
       "(50, 5)"
      ]
     },
     "metadata": {},
     "output_type": "display_data"
    }
   ],
   "source": [
    "display(students.ndim)\n",
    "display(students.size)\n",
    "display(students.shape)"
   ]
  },
  {
   "cell_type": "code",
   "execution_count": null,
   "metadata": {},
   "outputs": [],
   "source": [
    "print(students[:,0].sum())\n"
   ]
  },
  {
   "cell_type": "code",
   "execution_count": 3,
   "metadata": {},
   "outputs": [
    {
     "name": "stdout",
     "output_type": "stream",
     "text": [
      "388\n",
      "77.6\n",
      "98\n",
      "60\n",
      "13.661625086350453\n"
     ]
    }
   ],
   "source": [
    "print(students[0].sum())\n",
    "print(students[0].mean())\n",
    "print(students[0].max())\n",
    "print(students[0].min())\n",
    "print(students[0].std())"
   ]
  },
  {
   "cell_type": "code",
   "execution_count": 10,
   "metadata": {},
   "outputs": [
    {
     "data": {
      "text/plain": [
       "array([69.8, 74.6, 86.6, 66.2, 64.2, 74.2, 79.2, 82.4, 80.2, 81. , 63.6,\n",
       "       66.4, 75.6, 67.4, 76.4, 87.8, 93. , 78. , 75.8, 68.8, 80.2, 88.8,\n",
       "       67.4, 85.4, 56. , 71. , 74.8, 71.8, 76. , 72.2, 70. , 74.2, 73.6,\n",
       "       59. , 80.2, 71.8, 78.4, 68.2, 72.6, 74.4, 82.6, 67. , 84.6, 65.2,\n",
       "       74.2, 65.8, 82.2, 60.2, 63.4, 79. ])"
      ]
     },
     "execution_count": 10,
     "metadata": {},
     "output_type": "execute_result"
    }
   ],
   "source": [
    "np.mean(students,axis=1)"
   ]
  }
 ],
 "metadata": {
  "kernelspec": {
   "display_name": "Python 3",
   "language": "python",
   "name": "python3"
  },
  "language_info": {
   "codemirror_mode": {
    "name": "ipython",
    "version": 3
   },
   "file_extension": ".py",
   "mimetype": "text/x-python",
   "name": "python",
   "nbconvert_exporter": "python",
   "pygments_lexer": "ipython3",
   "version": "3.11.9"
  }
 },
 "nbformat": 4,
 "nbformat_minor": 2
}
