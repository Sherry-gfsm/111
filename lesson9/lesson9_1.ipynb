{
 "cells": [
  {
   "cell_type": "code",
   "execution_count": 2,
   "metadata": {},
   "outputs": [
    {
     "name": "stdout",
     "output_type": "stream",
     "text": [
      "<class '__main__.Person'>\n",
      "<class '__main__.Person'>\n"
     ]
    }
   ],
   "source": [
    "class Person():\n",
    "    pass\n",
    "p1=Person()\n",
    "print(type(p1))\n",
    "p2=Person()\n",
    "print(type(p2))"
   ]
  },
  {
   "cell_type": "code",
   "execution_count": 8,
   "metadata": {},
   "outputs": [
    {
     "name": "stdout",
     "output_type": "stream",
     "text": [
      "Sherry\n",
      "熊貓\n"
     ]
    }
   ],
   "source": [
    "class Person():\n",
    "    def __init__(self,n:str):\n",
    "        self.name= n\n",
    "    \n",
    "p1=Person(\"Sherry\")\n",
    "print(p1.name)\n",
    "p2=Person(n=\"熊貓\")\n",
    "print(p2.name)"
   ]
  },
  {
   "cell_type": "code",
   "execution_count": 11,
   "metadata": {},
   "outputs": [
    {
     "name": "stdout",
     "output_type": "stream",
     "text": [
      "我是person的實體,我的名字是:Sherry\n",
      "我是person的實體,我的名字是:熊貓\n"
     ]
    }
   ],
   "source": [
    "class Person():\n",
    "    def __init__(self,n:str):\n",
    "        self.name= n\n",
    "    def __repr__(self):\n",
    "        return f\"我是person的實體,我的名字是:{self.name}\"\n",
    "    \n",
    "p1=Person(\"Sherry\")\n",
    "print(p1)\n",
    "p2=Person(n=\"熊貓\")\n",
    "print(p2)"
   ]
  },
  {
   "cell_type": "code",
   "execution_count": 19,
   "metadata": {},
   "outputs": [
    {
     "name": "stdout",
     "output_type": "stream",
     "text": [
      "小蔡\n",
      "98\n",
      "100\n",
      "98\n",
      "我是student的實體\n",
      "296\n",
      "98.66666666666667\n",
      "===============\n",
      "熊貓\n",
      "89\n",
      "100\n",
      "93\n",
      "我是student的實體\n",
      "282\n",
      "94.0\n"
     ]
    }
   ],
   "source": [
    "class Student(Person):\n",
    "    def __init__(self,n:str, ch:int, en:int, ma:int):\n",
    "        super().__init__(n=n)\n",
    "        self.chinese=ch\n",
    "        self.english=en\n",
    "        self.math=ma\n",
    "    def __repr__(self):\n",
    "        return '我是student的實體'\n",
    "    def sum(self) -> int:\n",
    "        return self.chinese+self.english+self.math\n",
    "    def average(self) -> int:\n",
    "        return self.sum()/3\n",
    "s1=Student(\"小蔡\",ch=98,en=100,ma=98)\n",
    "print(s1.name)\n",
    "print(s1.chinese)\n",
    "print(s1.english)\n",
    "print(s1.math)\n",
    "print(s1)\n",
    "print(s1.sum())\n",
    "print(s1.average())\n",
    "print(\"===============\")\n",
    "s2=Student(\"熊貓\",ch=89,en=100,ma=93)\n",
    "print(s2.name)\n",
    "print(s2.chinese)\n",
    "print(s2.english)\n",
    "print(s2.math)\n",
    "print(s2)\n",
    "print(s2.sum())\n",
    "print(s2.average())"
   ]
  },
  {
   "cell_type": "code",
   "execution_count": null,
   "metadata": {},
   "outputs": [],
   "source": [
    "import pyinputplus as pyip\n",
    "\n",
    "class Person():\n",
    "    def __init__(self,n:str,h:int,w:int):\n",
    "            self.name = n\n",
    "                    self.height = h\n",
    "                            self.weight = w\n",
    "                                def getBmi(self) -> float:\n",
    "                                        return self.weight / (self.height/100) ** 2\n",
    "                                            def get_status(self) -> str:\n",
    "                                                    if p.getBmi() >= 35:\n",
    "                                                                return '重度肥胖'\n",
    "                                                                        elif p.getBmi() >= 30:\n",
    "                                                                                    return '中度肥胖'\n",
    "                                                                                            elif p.getBmi() >= 27:\n",
    "                                                                                                        return '輕度肥胖'\n",
    "                                                                                                                elif p.getBmi() >= 24:\n",
    "                                                                                                                            return '體重過重'\n",
    "                                                                                                                                    elif p.getBmi() >= 18.5:\n",
    "                                                                                                                                                return '體重正常'\n",
    "                                                                                                                                                        else:\n",
    "                                                                                                                                                                    return '體重過輕'\n",
    "                                                                                                                                                                        def bmi_print(self):\n",
    "                                                                                                                                                                                return f\"{p.name}你好\\n身高是：{p.height}公分\\n體重是：{p.weight}公斤\\nBMI:{round(p.getBmi(),ndigits=2)}\\n{p.get_status()}\"\n",
    "                                                                                                                                                                                    \n",
    "                                                                                                                                                                                    while True:       \n",
    "                                                                                                                                                                                        name = pyip.inputStr(\"請輸入姓名：\")\n",
    "                                                                                                                                                                                            print(name,\"\\n\")\n",
    "\n",
    "                                                                                                                                                                                                height= pyip.inputNum(\"請輸入身高(cm)：\")\n",
    "                                                                                                                                                                                                    print(height,\"\\n\")\n",
    "                                                                                                                                                                                                        weight = pyip.inputNum(\"請輸入體重(kg)：\")\n",
    "                                                                                                                                                                                                            print(weight,\"\\n\")\n",
    "\n",
    "                                                                                                                                                                                                                p = Person(name,height,weight)\n",
    "                                                                                                                                                                                                                    print(p.bmi_print())\n",
    "                                                                                                                                                                                                                        \n",
    "                                                                                                                                                                                                                            answer=input(\"離開(q)or繼續(c)\")\n",
    "                                                                                                                                                                                                                                if answer==\"q\":\n",
    "                                                                                                                                                                                                                                        break\n",
    "                                                                                                                                                                                                                                            \n",
    "                                                                                                                                                                                                                                                    \n",
    "                                                                                                                                                                                                                                                    print(\"應用程式結束\")import pyinputplus as pyip\n",
    "\n",
    "                                                                                                                                                                                                                                                    class Person():\n",
    "                                                                                                                                                                                                                                                        def __init__(self,n:str,h:int,w:int):\n",
    "                                                                                                                                                                                                                                                                self.name = n\n",
    "                                                                                                                                                                                                                                                                        self.height = h\n",
    "                                                                                                                                                                                                                                                                                self.weight = w\n",
    "                                                                                                                                                                                                                                                                                    def getBmi(self) -> float:\n",
    "                                                                                                                                                                                                                                                                                            return self.weight / (self.height/100) ** 2\n",
    "                                                                                                                                                                                                                                                                                                def get_status(self) -> str:\n",
    "                                                                                                                                                                                                                                                                                                        if p.getBmi() >= 35:\n",
    "                                                                                                                                                                                                                                                                                                                    return '重度肥胖'\n",
    "                                                                                                                                                                                                                                                                                                                            elif p.getBmi() >= 30:\n",
    "                                                                                                                                                                                                                                                                                                                                        return '中度肥胖'\n",
    "                                                                                                                                                                                                                                                                                                                                                elif p.getBmi() >= 27:\n",
    "                                                                                                                                                                                                                                                                                                                                                            return '輕度肥胖'\n",
    "                                                                                                                                                                                                                                                                                                                                                                    elif p.getBmi() >= 24:\n",
    "                                                                                                                                                                                                                                                                                                                                                                                return '體重過重'\n",
    "                                                                                                                                                                                                                                                                                                                                                                                        elif p.getBmi() >= 18.5:\n",
    "                                                                                                                                                                                                                                                                                                                                                                                                    return '體重正常'\n",
    "                                                                                                                                                                                                                                                                                                                                                                                                            else:\n",
    "                                                                                                                                                                                                                                                                                                                                                                                                                        return '體重過輕'\n",
    "                                                                                                                                                                                                                                                                                                                                                                                                                            def bmi_print(self):\n",
    "                                                                                                                                                                                                                                                                                                                                                                                                                                    return f\"{p.name}你好\\n身高是：{p.height}公分\\n體重是：{p.weight}公斤\\nBMI:{round(p.getBmi(),ndigits=2)}\\n{p.get_status()}\"\n",
    "                                                                                                                                                                                                                                                                                                                                                                                                                                        \n",
    "                                                                                                                                                                                                                                                                                                                                                                                                                                        while True:       \n",
    "                                                                                                                                                                                                                                                                                                                                                                                                                                            name = pyip.inputStr(\"請輸入姓名：\")\n",
    "                                                                                                                                                                                                                                                                                                                                                                                                                                                print(name,\"\\n\")\n",
    "\n",
    "                                                                                                                                                                                                                                                                                                                                                                                                                                                    height= pyip.inputNum(\"請輸入身高(cm)：\")\n",
    "                                                                                                                                                                                                                                                                                                                                                                                                                                                        print(height,\"\\n\")\n",
    "                                                                                                                                                                                                                                                                                                                                                                                                                                                            weight = pyip.inputNum(\"請輸入體重(kg)：\")\n",
    "                                                                                                                                                                                                                                                                                                                                                                                                                                                                print(weight,\"\\n\")\n",
    "\n",
    "                                                                                                                                                                                                                                                                                                                                                                                                                                                                    p = Person(name,height,weight)\n",
    "                                                                                                                                                                                                                                                                                                                                                                                                                                                                        print(p.bmi_print())\n",
    "                                                                                                                                                                                                                                                                                                                                                                                                                                                                            \n",
    "                                                                                                                                                                                                                                                                                                                                                                                                                                                                                answer=input(\"離開(q)or繼續(c)\")\n",
    "                                                                                                                                                                                                                                                                                                                                                                                                                                                                                    if answer==\"q\":\n",
    "                                                                                                                                                                                                                                                                                                                                                                                                                                                                                            break\n",
    "                                                                                                                                                                                                                                                                                                                                                                                                                                                                                                \n",
    "                                                                                                                                                                                                                                                                                                                                                                                                                                                                                                        \n",
    "                                                                                                                                                                                                                                                                                                                                                                                                                                                                                                        print(\"應用程式結束\")"
   ]
  }
 ],
 "metadata": {
  "kernelspec": {
   "display_name": "Python 3",
   "language": "python",
   "name": "python3"
  },
  "language_info": {
   "codemirror_mode": {
    "name": "ipython",
    "version": 3
   },
   "file_extension": ".py",
   "mimetype": "text/x-python",
   "name": "python",
   "nbconvert_exporter": "python",
   "pygments_lexer": "ipython3",
   "version": "3.11.9"
  }
 },
 "nbformat": 4,
 "nbformat_minor": 2
}
