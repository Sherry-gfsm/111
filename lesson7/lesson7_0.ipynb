{
 "cells": [
  {
   "cell_type": "code",
   "execution_count": 1,
   "metadata": {},
   "outputs": [
    {
     "name": "stdout",
     "output_type": "stream",
     "text": [
      "請輸入2數,求2數公因數:\n",
      "1 "
     ]
    }
   ],
   "source": [
    "print(\"請輸入2數,求2數公因數:\")\n",
    "n = int(input('請輸入第1個數:'))\n",
    "m = int(input('請輸入第2個數:'))\n",
    "\n",
    "min = n if not(n > m) else m\n",
    "\n",
    "for i in range(1,min+1):\n",
    "    if n % i == 0 and m % i == 0:\n",
    "        print(i,end=' ')"
   ]
  },
  {
   "cell_type": "code",
   "execution_count": 4,
   "metadata": {},
   "outputs": [
    {
     "name": "stdout",
     "output_type": "stream",
     "text": [
      "FGHK\n"
     ]
    }
   ],
   "source": [
    "stuff = input(\"請輸入小寫英文字[按q會離開]\")\n",
    "while stuff != 'q':\n",
    "    print(stuff.upper())\n",
    "    stuff = input(\"請輸入小寫英文字[按q會離開]\")\n",
    "\n",
    "print(\"應用程式結束\")"
   ]
  },
  {
   "cell_type": "code",
   "execution_count": 2,
   "metadata": {},
   "outputs": [
    {
     "name": "stdout",
     "output_type": "stream",
     "text": [
      "GHJK\n",
      "GHJLK\n",
      "應用程式結束\n"
     ]
    }
   ],
   "source": [
    "while True:\n",
    "    stuff = input(\"請輸入小寫英文字[按q會離開]\")\n",
    "    if stuff == 'q':\n",
    "        break\n",
    "    print(stuff.upper())\n",
    "    \n",
    "\n",
    "print(\"應用程式結束\")\n"
   ]
  },
  {
   "cell_type": "code",
   "execution_count": 3,
   "metadata": {},
   "outputs": [
    {
     "name": "stdout",
     "output_type": "stream",
     "text": [
      "2025\n",
      "應用程式結束\n"
     ]
    }
   ],
   "source": [
    "while True:\n",
    "    letter=input(\"請輸入整數,輸入[q]離開:\")\n",
    "    if letter==\"q\":\n",
    "        break\n",
    "    try:\n",
    "        number=int(letter)\n",
    "    except:\n",
    "        print(\"輸入格式錯誤,請重新輸入\")\n",
    "        continue\n",
    "    if not number %2==0:\n",
    "        print(number**2)\n",
    "print('應用程式結束')\n"
   ]
  },
  {
   "cell_type": "code",
   "execution_count": null,
   "metadata": {},
   "outputs": [],
   "source": [
    "try:\n",
    "    name =(input(\"請輸入姓名:\"))\n",
    "    h= eval(input(\"請輸入身高(cm):\"))\n",
    "    w= eval(input(\"請輸入體重(kg):\"))\n",
    "except:\n",
    "    print(\"格式錯誤\")\n",
    "    continue    \n",
    "else:\n",
    "    BMI=w/(h/100)**2\n",
    "    print(f'{name}您好\\n身高是{h}公分\\n體重是{w}公斤\\nBMI為{round(BMI,ndigits=2)}')\n",
    "    import random\n",
    "while True:\n",
    "    min = 1\n",
    "    max = 100\n",
    "    target = random.randint(min, max)\n",
    "    print(\"===========猜數字遊戲============\\n\")\n",
    "    count = 0\n",
    "\n",
    "    while True:\n",
    "        \n",
    "        try:\n",
    "            keyin = int(input(f\"猜數字範圍{min}~{max}:\"))\n",
    "            count += 1\n",
    "        except:\n",
    "            print(\"格式錯誤\")     # 輸入錯誤不算次數\n",
    "            continue\n",
    "\n",
    "        if keyin < min or keyin > max:\n",
    "            print(\"超過範圍\")        \n",
    "            continue\n",
    "\n",
    "        \n",
    "\n",
    "  "
   ]
  }
 ],
 "metadata": {
  "kernelspec": {
   "display_name": "Python 3",
   "language": "python",
   "name": "python3"
  },
  "language_info": {
   "codemirror_mode": {
    "name": "ipython",
    "version": 3
   },
   "file_extension": ".py",
   "mimetype": "text/x-python",
   "name": "python",
   "nbconvert_exporter": "python",
   "pygments_lexer": "ipython3",
   "version": "3.11.9"
  }
 },
 "nbformat": 4,
 "nbformat_minor": 2
}
