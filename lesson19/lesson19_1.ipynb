{
 "cells": [
  {
   "cell_type": "code",
   "execution_count": 5,
   "metadata": {},
   "outputs": [],
   "source": [
    "import os\n",
    "def get_path() -> list[str]:\n",
    "    current_path = os.path.dirname(os.path.abspath(__name__))\n",
    "    folder_path = os.path.join(current_path,'每日各站進出站人數')\n",
    "    fileName_list = []\n",
    "    for filename in os.listdir(folder_path):\n",
    "        if '每日各站進出站人數' in filename:\n",
    "            fileName_list.append(os.path.join(folder_path,filename))\n",
    "    return fileName_list"
   ]
  },
  {
   "cell_type": "code",
   "execution_count": 6,
   "metadata": {},
   "outputs": [],
   "source": [
    "from pandas import DataFrame\n",
    "\n",
    "def station_info() -> DataFrame:\n",
    "    import os,json\n",
    "    import pandas as pd\n",
    "    current_path = os.path.dirname(os.path.abspath(__name__))\n",
    "    folder_path = os.path.join(current_path,'每日各站進出站人數')\n",
    "    stations_path = os.path.join(folder_path,'車站基本資料集.json')\n",
    "                                 \n",
    "    with open(stations_path,encoding='utf-8') as file:\n",
    "        station_content = json.load(file)\n",
    "\n",
    "    stations_df = pd.DataFrame(station_content)\n",
    "\n",
    "\n",
    "    stations_df['stationCode'] = stations_df['stationCode'].astype(int)\n",
    "    return stations_df "
   ]
  },
  {
   "cell_type": "code",
   "execution_count": 7,
   "metadata": {},
   "outputs": [],
   "source": [
    "def merge_dataFrame(names:list[str], station:DataFrame) -> list[DataFrame]:\n",
    "    import pandas as pd\n",
    "    all_frames = []\n",
    "    for name in names:\n",
    "        inOut_df = pd.read_csv(name)\n",
    "        df1 = pd.merge(inOut_df,station,left_on='staCode',right_on='stationCode')\n",
    "        df2 = df1.reindex(columns=['trnOpDate','stationName','gateInComingCnt','gateOutGoingCnt'])\n",
    "        df3 = df2.rename(columns={'trnOpDate':'日期',\n",
    "                    'stationName':'站名',\n",
    "                    'gateInComingCnt':'進站',\n",
    "                    'gateOutGoingCnt':'出站'\n",
    "                    })\n",
    "        df3['日期'] = pd.to_datetime(df3['日期'].astype(str))\n",
    "        all_frames.append(df3)\n",
    "    return all_frames"
   ]
  },
  {
   "cell_type": "code",
   "execution_count": 8,
   "metadata": {},
   "outputs": [
    {
     "ename": "FileNotFoundError",
     "evalue": "[Errno 2] No such file or directory: '/workspaces/111/lesson19/每日各站進出站人數/車站基本資料集.json'",
     "output_type": "error",
     "traceback": [
      "\u001b[0;31m---------------------------------------------------------------------------\u001b[0m",
      "\u001b[0;31mFileNotFoundError\u001b[0m                         Traceback (most recent call last)",
      "Cell \u001b[0;32mIn[8], line 3\u001b[0m\n\u001b[1;32m      1\u001b[0m \u001b[38;5;28;01mimport\u001b[39;00m \u001b[38;5;21;01mpandas\u001b[39;00m \u001b[38;5;28;01mas\u001b[39;00m \u001b[38;5;21;01mpd\u001b[39;00m\n\u001b[1;32m      2\u001b[0m fileName_list \u001b[38;5;241m=\u001b[39m get_path()\n\u001b[0;32m----> 3\u001b[0m stations_df \u001b[38;5;241m=\u001b[39m \u001b[43mstation_info\u001b[49m\u001b[43m(\u001b[49m\u001b[43m)\u001b[49m\n\u001b[1;32m      4\u001b[0m all_in_out\u001b[38;5;241m=\u001b[39mmerge_dataFrame(fileName_list, stations_df)\n\u001b[1;32m      5\u001b[0m pd\u001b[38;5;241m.\u001b[39mconcat(all_in_out)\n",
      "Cell \u001b[0;32mIn[6], line 10\u001b[0m, in \u001b[0;36mstation_info\u001b[0;34m()\u001b[0m\n\u001b[1;32m      7\u001b[0m folder_path \u001b[38;5;241m=\u001b[39m os\u001b[38;5;241m.\u001b[39mpath\u001b[38;5;241m.\u001b[39mjoin(current_path,\u001b[38;5;124m'\u001b[39m\u001b[38;5;124m每日各站進出站人數\u001b[39m\u001b[38;5;124m'\u001b[39m)\n\u001b[1;32m      8\u001b[0m stations_path \u001b[38;5;241m=\u001b[39m os\u001b[38;5;241m.\u001b[39mpath\u001b[38;5;241m.\u001b[39mjoin(folder_path,\u001b[38;5;124m'\u001b[39m\u001b[38;5;124m車站基本資料集.json\u001b[39m\u001b[38;5;124m'\u001b[39m)\n\u001b[0;32m---> 10\u001b[0m \u001b[38;5;28;01mwith\u001b[39;00m \u001b[38;5;28;43mopen\u001b[39;49m\u001b[43m(\u001b[49m\u001b[43mstations_path\u001b[49m\u001b[43m,\u001b[49m\u001b[43mencoding\u001b[49m\u001b[38;5;241;43m=\u001b[39;49m\u001b[38;5;124;43m'\u001b[39;49m\u001b[38;5;124;43mutf-8\u001b[39;49m\u001b[38;5;124;43m'\u001b[39;49m\u001b[43m)\u001b[49m \u001b[38;5;28;01mas\u001b[39;00m file:\n\u001b[1;32m     11\u001b[0m     station_content \u001b[38;5;241m=\u001b[39m json\u001b[38;5;241m.\u001b[39mload(file)\n\u001b[1;32m     13\u001b[0m stations_df \u001b[38;5;241m=\u001b[39m pd\u001b[38;5;241m.\u001b[39mDataFrame(station_content)\n",
      "File \u001b[0;32m~/.local/lib/python3.11/site-packages/IPython/core/interactiveshell.py:324\u001b[0m, in \u001b[0;36m_modified_open\u001b[0;34m(file, *args, **kwargs)\u001b[0m\n\u001b[1;32m    317\u001b[0m \u001b[38;5;28;01mif\u001b[39;00m file \u001b[38;5;129;01min\u001b[39;00m {\u001b[38;5;241m0\u001b[39m, \u001b[38;5;241m1\u001b[39m, \u001b[38;5;241m2\u001b[39m}:\n\u001b[1;32m    318\u001b[0m     \u001b[38;5;28;01mraise\u001b[39;00m \u001b[38;5;167;01mValueError\u001b[39;00m(\n\u001b[1;32m    319\u001b[0m         \u001b[38;5;124mf\u001b[39m\u001b[38;5;124m\"\u001b[39m\u001b[38;5;124mIPython won\u001b[39m\u001b[38;5;124m'\u001b[39m\u001b[38;5;124mt let you open fd=\u001b[39m\u001b[38;5;132;01m{\u001b[39;00mfile\u001b[38;5;132;01m}\u001b[39;00m\u001b[38;5;124m by default \u001b[39m\u001b[38;5;124m\"\u001b[39m\n\u001b[1;32m    320\u001b[0m         \u001b[38;5;124m\"\u001b[39m\u001b[38;5;124mas it is likely to crash IPython. If you know what you are doing, \u001b[39m\u001b[38;5;124m\"\u001b[39m\n\u001b[1;32m    321\u001b[0m         \u001b[38;5;124m\"\u001b[39m\u001b[38;5;124myou can use builtins\u001b[39m\u001b[38;5;124m'\u001b[39m\u001b[38;5;124m open.\u001b[39m\u001b[38;5;124m\"\u001b[39m\n\u001b[1;32m    322\u001b[0m     )\n\u001b[0;32m--> 324\u001b[0m \u001b[38;5;28;01mreturn\u001b[39;00m \u001b[43mio_open\u001b[49m\u001b[43m(\u001b[49m\u001b[43mfile\u001b[49m\u001b[43m,\u001b[49m\u001b[43m \u001b[49m\u001b[38;5;241;43m*\u001b[39;49m\u001b[43margs\u001b[49m\u001b[43m,\u001b[49m\u001b[43m \u001b[49m\u001b[38;5;241;43m*\u001b[39;49m\u001b[38;5;241;43m*\u001b[39;49m\u001b[43mkwargs\u001b[49m\u001b[43m)\u001b[49m\n",
      "\u001b[0;31mFileNotFoundError\u001b[0m: [Errno 2] No such file or directory: '/workspaces/111/lesson19/每日各站進出站人數/車站基本資料集.json'"
     ]
    }
   ],
   "source": [
    "import pandas as pd\n",
    "fileName_list = get_path()\n",
    "stations_df = station_info()\n",
    "all_in_out=merge_dataFrame(fileName_list, stations_df)\n",
    "pd.concat(all_in_out)"
   ]
  }
 ],
 "metadata": {
  "kernelspec": {
   "display_name": "Python 3",
   "language": "python",
   "name": "python3"
  },
  "language_info": {
   "codemirror_mode": {
    "name": "ipython",
    "version": 3
   },
   "file_extension": ".py",
   "mimetype": "text/x-python",
   "name": "python",
   "nbconvert_exporter": "python",
   "pygments_lexer": "ipython3",
   "version": "3.11.9"
  }
 },
 "nbformat": 4,
 "nbformat_minor": 2
}
