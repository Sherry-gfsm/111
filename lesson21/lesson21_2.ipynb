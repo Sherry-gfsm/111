{
 "cells": [
  {
   "cell_type": "code",
   "execution_count": 5,
   "metadata": {},
   "outputs": [
    {
     "name": "stdout",
     "output_type": "stream",
     "text": [
      "學習 Python 有很多方法，以下是幾個常見且有效的選擇：\n",
      "\n",
      "**1. 線上資源：**\n",
      "\n",
      "* **Codecademy:** 提供互動式課程，適合初學者，涵蓋 Python 基礎知識、資料結構、物件導向程式設計等。\n",
      "* **freeCodeCamp:** 提供免費的線上課程和互動式練習，涵蓋 Python 以及其他程式語言。\n",
      "* **Google's Python Class:** 谷歌提供的免費線上課程，涵蓋 Python 的基礎和進階概念。\n",
      "* **Khan Academy:** 提供免費的 Python 課程，適合初學者，內容淺顯易懂。\n",
      "* **W3Schools:** 提供 Python 的教學文件和範例程式碼，適合自學。\n",
      "\n",
      "**2. 書籍:**\n",
      "\n",
      "* **Python Crash Course, 2nd Edition:** 適合初學者，涵蓋 Python 基礎知識、網路程式設計、資料視覺化等。\n",
      "* **Fluent Python:** 適合中級學習者，深入探討 Python 的高級特性和最佳實務。\n",
      "* **Head First Python, 2nd Edition:** 以圖像和互動方式講解 Python 的概念，適合初學者。\n",
      "\n",
      "**3. 互動式平台：**\n",
      "\n",
      "* **Repl.it:** 線上程式碼編輯器，可以執行 Python 程式碼並進行互動式學習。\n",
      "* **Jupyter Notebook:** 開放原始碼的互動式筆記本，可以執行程式碼、顯示結果和添加註釋。\n",
      "* **Google Colab:** 基於 Jupyter Notebook 的雲端平台，可以免費使用 Google 的 GPU 和 TPU。\n",
      "\n",
      "**4. 專案實作：**\n",
      "\n",
      "* **選擇你感興趣的領域:** 例如，網頁開發、資料分析、機器學習等。\n",
      "* **找尋簡單的專案:** 嘗試建立一個小型的應用程式或網站。\n",
      "* **學習新技術:**  隨著專案的進展，你會需要學習新的 Python 技術和套件。\n",
      "\n",
      "**學習步驟：**\n",
      "\n",
      "1. **基礎知識:**  學習 Python 的基本語法、資料型態、運算子、流程控制等。\n",
      "2. **資料結構:**  學習列表、字典、集合等資料結構，以及它們的使用方式。\n",
      "3. **函數:**  學習定義和使用函數，以及如何傳遞參數和回傳值。\n",
      "4. **物件導向程式設計 (OOP):**  學習類別、物件、繼承等 OOP 的概念。\n",
      "5. **實作專案:**  透過實作專案來練習 Python 的技巧和應用。\n",
      "6. **持續學習:**  程式設計是一個不斷學習的過程，需要持續更新自己的知識和技能。\n",
      "\n",
      "**建議:**\n",
      "\n",
      "* **設定目標:**  制定一個學習計劃，例如每天學習一小時 Python。\n",
      "* **練習寫程式:**  不斷練習寫程式碼，才能掌握 Python 的技巧。\n",
      "* **加入社群:**  加入 Python 的社群或論壇，可以向其他人學習並獲得幫助。\n",
      "* **保持耐心:**  學習 Python 需要時間和耐心，不要灰心。\n",
      "\n",
      "希望這些建議能幫助你開始學習 Python 的旅程！\n",
      "\n"
     ]
    }
   ],
   "source": [
    "from dotenv import load_dotenv\n",
    "import google.generativeai as genai\n",
    "import os\n",
    "load_dotenv()\n",
    "genai.configure(api_key=os.environ['api_key'])\n",
    "model = genai.GenerativeModel('gemini-1.5-flash')   \n",
    "response = model.generate_content(\"請問如何學習python\")\n",
    "print(response.text)"
   ]
  }
 ],
 "metadata": {
  "kernelspec": {
   "display_name": "Python 3",
   "language": "python",
   "name": "python3"
  },
  "language_info": {
   "codemirror_mode": {
    "name": "ipython",
    "version": 3
   },
   "file_extension": ".py",
   "mimetype": "text/x-python",
   "name": "python",
   "nbconvert_exporter": "python",
   "pygments_lexer": "ipython3",
   "version": "3.11.9"
  }
 },
 "nbformat": 4,
 "nbformat_minor": 2
}
