{
 "cells": [
  {
   "cell_type": "code",
   "execution_count": 29,
   "metadata": {},
   "outputs": [],
   "source": [
    "import os\n",
    "current_path = os.path.dirname(os.path.abspath(__name__))\n",
    "folder_path = os.path.join(current_path,'每日各站進出站人數')\n",
    "fileName_list = []\n",
    "for filename in os.listdir(folder_path):\n",
    "    if '每日各站進出站人數' in filename:\n",
    "        fileName_list.append(os.path.join(folder_path,filename))"
   ]
  },
  {
   "cell_type": "code",
   "execution_count": 30,
   "metadata": {},
   "outputs": [
    {
     "name": "stdout",
     "output_type": "stream",
     "text": [
      "<class 'pandas.core.frame.DataFrame'>\n",
      "RangeIndex: 243 entries, 0 to 242\n",
      "Data columns (total 10 columns):\n",
      " #   Column         Non-Null Count  Dtype \n",
      "---  ------         --------------  ----- \n",
      " 0   stationCode    243 non-null    int64 \n",
      " 1   stationName    243 non-null    object\n",
      " 2   stationEName   243 non-null    object\n",
      " 3   name           243 non-null    object\n",
      " 4   ename          243 non-null    object\n",
      " 5   stationAddrTw  243 non-null    object\n",
      " 6   stationAddrEn  243 non-null    object\n",
      " 7   stationTel     243 non-null    object\n",
      " 8   gps            243 non-null    object\n",
      " 9   haveBike       243 non-null    object\n",
      "dtypes: int64(1), object(9)\n",
      "memory usage: 19.1+ KB\n"
     ]
    }
   ],
   "source": [
    "import pandas as pd\n",
    "import json\n",
    "from pprint import pprint\n",
    "stations_path=os.path.join(folder_path,'車站基本資料集.json')\n",
    "with open(stations_path,encoding='utf-8') as file:\n",
    "    station_content=json.load(file)\n",
    "stations_df=pd.DataFrame(station_content)\n",
    "\n",
    "stations_df['stationCode']=stations_df['stationCode'].astype(int)\n",
    "stations_df.info()"
   ]
  },
  {
   "cell_type": "code",
   "execution_count": 31,
   "metadata": {},
   "outputs": [
    {
     "name": "stdout",
     "output_type": "stream",
     "text": [
      "<class 'pandas.core.frame.DataFrame'>\n",
      "RangeIndex: 86932 entries, 0 to 86931\n",
      "Data columns (total 4 columns):\n",
      " #   Column           Non-Null Count  Dtype\n",
      "---  ------           --------------  -----\n",
      " 0   trnOpDate        86932 non-null  int64\n",
      " 1   staCode          86932 non-null  int64\n",
      " 2   gateInComingCnt  86932 non-null  int64\n",
      " 3   gateOutGoingCnt  86932 non-null  int64\n",
      "dtypes: int64(4)\n",
      "memory usage: 2.7 MB\n"
     ]
    }
   ],
   "source": [
    "inout_df=pd.read_csv(fileName_list[0])\n",
    "inout_df.info()"
   ]
  },
  {
   "cell_type": "code",
   "execution_count": 32,
   "metadata": {},
   "outputs": [],
   "source": [
    "df1=pd.merge(inout_df,stations_df,left_on='staCode',right_on=\"stationCode\")\n",
    "df2=df1.reindex(columns=['trnOpDate','stationName','gateInComingCn','gateOutGoingCnt'])\n",
    "df3=df2.rename(columns={'trnOpDate':'日期','stationName':'站名','gateInComingCn':'進站','gateOutGoingCnt':'出站'})\n"
   ]
  },
  {
   "cell_type": "code",
   "execution_count": 33,
   "metadata": {},
   "outputs": [],
   "source": [
    "df3['日期']=pd.to_datetime(df3['日期'].astype(str))"
   ]
  },
  {
   "cell_type": "code",
   "execution_count": 34,
   "metadata": {},
   "outputs": [
    {
     "name": "stderr",
     "output_type": "stream",
     "text": [
      "/tmp/ipykernel_28174/2257512353.py:1: FutureWarning: The behavior of 'isin' with dtype=datetime64[ns] and castable values (e.g. strings) is deprecated. In a future version, these will not be considered matching by isin. Explicitly cast to the appropriate dtype before calling isin instead.\n",
      "  df3.query('日期==\"2020-01-29\"')\n"
     ]
    },
    {
     "data": {
      "text/html": [
       "<div>\n",
       "<style scoped>\n",
       "    .dataframe tbody tr th:only-of-type {\n",
       "        vertical-align: middle;\n",
       "    }\n",
       "\n",
       "    .dataframe tbody tr th {\n",
       "        vertical-align: top;\n",
       "    }\n",
       "\n",
       "    .dataframe thead th {\n",
       "        text-align: right;\n",
       "    }\n",
       "</style>\n",
       "<table border=\"1\" class=\"dataframe\">\n",
       "  <thead>\n",
       "    <tr style=\"text-align: right;\">\n",
       "      <th></th>\n",
       "      <th>日期</th>\n",
       "      <th>站名</th>\n",
       "      <th>進站</th>\n",
       "      <th>出站</th>\n",
       "    </tr>\n",
       "  </thead>\n",
       "  <tbody>\n",
       "    <tr>\n",
       "      <th>6657</th>\n",
       "      <td>2020-01-29</td>\n",
       "      <td>基隆</td>\n",
       "      <td>NaN</td>\n",
       "      <td>6639</td>\n",
       "    </tr>\n",
       "    <tr>\n",
       "      <th>6658</th>\n",
       "      <td>2020-01-29</td>\n",
       "      <td>三坑</td>\n",
       "      <td>NaN</td>\n",
       "      <td>1032</td>\n",
       "    </tr>\n",
       "    <tr>\n",
       "      <th>6659</th>\n",
       "      <td>2020-01-29</td>\n",
       "      <td>八堵</td>\n",
       "      <td>NaN</td>\n",
       "      <td>1615</td>\n",
       "    </tr>\n",
       "    <tr>\n",
       "      <th>6660</th>\n",
       "      <td>2020-01-29</td>\n",
       "      <td>七堵</td>\n",
       "      <td>NaN</td>\n",
       "      <td>4333</td>\n",
       "    </tr>\n",
       "    <tr>\n",
       "      <th>6661</th>\n",
       "      <td>2020-01-29</td>\n",
       "      <td>百福</td>\n",
       "      <td>NaN</td>\n",
       "      <td>1726</td>\n",
       "    </tr>\n",
       "    <tr>\n",
       "      <th>...</th>\n",
       "      <td>...</td>\n",
       "      <td>...</td>\n",
       "      <td>...</td>\n",
       "      <td>...</td>\n",
       "    </tr>\n",
       "    <tr>\n",
       "      <th>6890</th>\n",
       "      <td>2020-01-29</td>\n",
       "      <td>瑞芳</td>\n",
       "      <td>NaN</td>\n",
       "      <td>4667</td>\n",
       "    </tr>\n",
       "    <tr>\n",
       "      <th>6891</th>\n",
       "      <td>2020-01-29</td>\n",
       "      <td>海科館</td>\n",
       "      <td>NaN</td>\n",
       "      <td>275</td>\n",
       "    </tr>\n",
       "    <tr>\n",
       "      <th>6892</th>\n",
       "      <td>2020-01-29</td>\n",
       "      <td>八斗子</td>\n",
       "      <td>NaN</td>\n",
       "      <td>307</td>\n",
       "    </tr>\n",
       "    <tr>\n",
       "      <th>6893</th>\n",
       "      <td>2020-01-29</td>\n",
       "      <td>四腳亭</td>\n",
       "      <td>NaN</td>\n",
       "      <td>431</td>\n",
       "    </tr>\n",
       "    <tr>\n",
       "      <th>6894</th>\n",
       "      <td>2020-01-29</td>\n",
       "      <td>暖暖</td>\n",
       "      <td>NaN</td>\n",
       "      <td>265</td>\n",
       "    </tr>\n",
       "  </tbody>\n",
       "</table>\n",
       "<p>238 rows × 4 columns</p>\n",
       "</div>"
      ],
      "text/plain": [
       "             日期   站名  進站    出站\n",
       "6657 2020-01-29   基隆 NaN  6639\n",
       "6658 2020-01-29   三坑 NaN  1032\n",
       "6659 2020-01-29   八堵 NaN  1615\n",
       "6660 2020-01-29   七堵 NaN  4333\n",
       "6661 2020-01-29   百福 NaN  1726\n",
       "...         ...  ...  ..   ...\n",
       "6890 2020-01-29   瑞芳 NaN  4667\n",
       "6891 2020-01-29  海科館 NaN   275\n",
       "6892 2020-01-29  八斗子 NaN   307\n",
       "6893 2020-01-29  四腳亭 NaN   431\n",
       "6894 2020-01-29   暖暖 NaN   265\n",
       "\n",
       "[238 rows x 4 columns]"
      ]
     },
     "execution_count": 34,
     "metadata": {},
     "output_type": "execute_result"
    }
   ],
   "source": [
    "df3.query('日期==\"2020-01-29\"')"
   ]
  }
 ],
 "metadata": {
  "kernelspec": {
   "display_name": "Python 3",
   "language": "python",
   "name": "python3"
  },
  "language_info": {
   "codemirror_mode": {
    "name": "ipython",
    "version": 3
   },
   "file_extension": ".py",
   "mimetype": "text/x-python",
   "name": "python",
   "nbconvert_exporter": "python",
   "pygments_lexer": "ipython3",
   "version": "3.11.9"
  }
 },
 "nbformat": 4,
 "nbformat_minor": 2
}
