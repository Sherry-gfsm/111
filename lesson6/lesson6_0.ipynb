{
 "cells": [
  {
   "cell_type": "code",
   "execution_count": 3,
   "metadata": {},
   "outputs": [
    {
     "name": "stdout",
     "output_type": "stream",
     "text": [
      "格式錯誤\n"
     ]
    }
   ],
   "source": [
    "try:\n",
    "    num = int(input(\"請輸入整數:\"))\n",
    "    if num==0:\n",
    "        print(f\"{num}是0\")\n",
    "    else:\n",
    "        if num>0:\n",
    "            print(f\"{num}是正整數\")\n",
    "        else:\n",
    "            print(f\"{num}是負整數\")\n",
    "    \n",
    "    if num % 2==0:\n",
    "        print(f\"{num}是偶數\")\n",
    "    else:\n",
    "        print(f\"{num}是奇數\")\n",
    "except:\n",
    "    print(\"格式錯誤\")"
   ]
  },
  {
   "cell_type": "code",
   "execution_count": 7,
   "metadata": {},
   "outputs": [
    {
     "name": "stdout",
     "output_type": "stream",
     "text": [
      "甲\n"
     ]
    }
   ],
   "source": [
    "score=int(input(\"請輸入分數:\"))\n",
    "if score>=90:\n",
    "    print(\"優\")\n",
    "elif score>=80:\n",
    "    print(\"甲\")\n",
    "elif score>=70:\n",
    "    print(\"乙\")\n",
    "elif score>=60:\n",
    "    print(\"丙\")\n",
    "else:\n",
    "    print(\"丁\")"
   ]
  },
  {
   "cell_type": "code",
   "execution_count": 6,
   "metadata": {},
   "outputs": [
    {
     "name": "stdout",
     "output_type": "stream",
     "text": [
      "格式錯誤\n"
     ]
    }
   ],
   "source": [
    "try:\n",
    "    name =(input(\"請輸入姓名:\"))\n",
    "    h= eval(input(\"請輸入身高(cm):\"))\n",
    "    w= eval(input(\"請輸入體重(kg):\"))\n",
    "except:\n",
    "    print(\"格式錯誤\")\n",
    "else:\n",
    "    BMI=w/(h/100)**2\n",
    "    print(f'{name}您好\\n身高是{h}公分\\n體重是{w}公斤\\nBMI為{round(BMI,ndigits=2)}')\n",
    "    if BMI<18.5:\n",
    "        print(\"體重過輕\")\n",
    "    elif BMI<24:\n",
    "        print(\"體重適中\")\n",
    "    elif BMI<27:\n",
    "        print(\"體重過重\")\n",
    "    elif BMI<20:\n",
    "        print(\"輕度肥胖\")\n",
    "    elif BMI<35:\n",
    "        print(\"中度肥胖\")\n",
    "    else:\n",
    "        print(\"重度肥胖\")\n",
    "\n"
   ]
  },
  {
   "cell_type": "code",
   "execution_count": 1,
   "metadata": {},
   "outputs": [
    {
     "name": "stdout",
     "output_type": "stream",
     "text": [
      "不加分\n"
     ]
    }
   ],
   "source": [
    "is_add=input(\"請問是否加分(y,n):\")\n",
    "if not is_add==\"y\":\n",
    "    print(\"不加分\")\n",
    "else:\n",
    "    print(\"加分\")\n"
   ]
  },
  {
   "cell_type": "code",
   "execution_count": null,
   "metadata": {},
   "outputs": [
    {
     "name": "stdout",
     "output_type": "stream",
     "text": [
      "獎金500\n"
     ]
    }
   ],
   "source": [
    "chinese=int(input(\"請輸入國文分數\"))\n",
    "math=int(input(\"請輸入數學分數\"))\n",
    "if chinese==100 and math==100:\n",
    "    bonus=1000\n",
    "elif chinese==100 or math==100:\n",
    "    bonus=500\n",
    "else:\n",
    "    bonus=0\n",
    "print(f\"獎金{bonus}\")\n"
   ]
  },
  {
   "cell_type": "code",
   "execution_count": null,
   "metadata": {},
   "outputs": [],
   "source": []
  }
 ],
 "metadata": {
  "kernelspec": {
   "display_name": "Python 3",
   "language": "python",
   "name": "python3"
  },
  "language_info": {
   "codemirror_mode": {
    "name": "ipython",
    "version": 3
   },
   "file_extension": ".py",
   "mimetype": "text/x-python",
   "name": "python",
   "nbconvert_exporter": "python",
   "pygments_lexer": "ipython3",
   "version": "3.11.9"
  }
 },
 "nbformat": 4,
 "nbformat_minor": 2
}
