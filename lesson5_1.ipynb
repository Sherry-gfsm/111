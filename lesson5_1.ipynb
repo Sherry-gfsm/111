{
 "cells": [
  {
   "cell_type": "code",
   "execution_count": 1,
   "metadata": {},
   "outputs": [
    {
     "name": "stdout",
     "output_type": "stream",
     "text": [
      "False\n",
      "True\n",
      "True\n",
      "False\n"
     ]
    }
   ],
   "source": [
    "print(3>5)\n",
    "print(3<5)\n",
    "print(5==5)\n",
    "print(5!=5)\n"
   ]
  },
  {
   "cell_type": "code",
   "execution_count": 2,
   "metadata": {},
   "outputs": [
    {
     "name": "stdout",
     "output_type": "stream",
     "text": [
      "未成年\n",
      "應用程式結束\n"
     ]
    }
   ],
   "source": [
    "age=17\n",
    "if age>=18:\n",
    "    print(\"成年\")\n",
    "else:\n",
    "    print(\"未成年\")\n",
    "print(\"應用程式結束\")"
   ]
  },
  {
   "cell_type": "code",
   "execution_count": 21,
   "metadata": {},
   "outputs": [
    {
     "name": "stdout",
     "output_type": "stream",
     "text": [
      "學生總分:129\n",
      "應用程式結束\n"
     ]
    }
   ],
   "source": [
    "try:    \n",
    "    score=int(input('請輸入學生分數(最高300分):'))\n",
    "    if score<0:\n",
    "        raise ValueError('輸入數值要大於等於0')\n",
    "    if score>300:\n",
    "        raise ValueError('輸入數值要小於等於300')\n",
    "    is_add=input('學生是否符合加分條件?(y,n)')\n",
    "    if is_add==\"y\":\n",
    "        score*=1.05\n",
    "        if score>300:\n",
    "            score=300\n",
    "    print(f\"學生總分:{round(score)}\")\n",
    "except Exception as error:\n",
    "    print(error)\n",
    "print(\"應用程式結束\")"
   ]
  },
  {
   "cell_type": "code",
   "execution_count": 23,
   "metadata": {},
   "outputs": [
    {
     "name": "stdout",
     "output_type": "stream",
     "text": [
      "0是0\n",
      "0是偶數\n"
     ]
    }
   ],
   "source": [
    "num = int(input(\"請輸入整數:\"))\n",
    "if num>0:\n",
    "    print(f\"{num}是正整數\")\n",
    "if num<0:\n",
    "    print(f\"{num}是負整數\")\n",
    "if num==0:\n",
    "    print(f\"{num}是0\")\n",
    "if num % 2==0:\n",
    "    print(f\"{num}是偶數\")\n",
    "else:\n",
    "    print(f\"{num}是奇數\")\n",
    "\n"
   ]
  }
 ],
 "metadata": {
  "kernelspec": {
   "display_name": "Python 3",
   "language": "python",
   "name": "python3"
  },
  "language_info": {
   "codemirror_mode": {
    "name": "ipython",
    "version": 3
   },
   "file_extension": ".py",
   "mimetype": "text/x-python",
   "name": "python",
   "nbconvert_exporter": "python",
   "pygments_lexer": "ipython3",
   "version": "3.11.9"
  }
 },
 "nbformat": 4,
 "nbformat_minor": 2
}
